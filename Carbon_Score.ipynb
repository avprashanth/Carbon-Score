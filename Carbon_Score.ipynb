{
  "nbformat": 4,
  "nbformat_minor": 0,
  "metadata": {
    "colab": {
      "name": "Copy of Getting started with BigQuery",
      "provenance": [],
      "collapsed_sections": [],
      "machine_shape": "hm"
    },
    "kernelspec": {
      "display_name": "Python 3",
      "name": "python3"
    },
    "accelerator": "GPU"
  },
  "cells": [
    {
      "cell_type": "markdown",
      "metadata": {
        "id": "KcAZ2RHCg_Ze"
      },
      "source": [
        "# Before you begin\n",
        "\n",
        "\n",
        "1.   Use the [Cloud Resource Manager](https://console.cloud.google.com/cloud-resource-manager) to Create a Cloud Platform project if you do not already have one.\n",
        "2.   [Enable billing](https://support.google.com/cloud/answer/6293499#enable-billing) for the project.\n",
        "3.   [Enable BigQuery](https://console.cloud.google.com/flows/enableapi?apiid=bigquery) APIs for the project.\n"
      ]
    },
    {
      "cell_type": "markdown",
      "metadata": {
        "id": "qTmLBxDxBAZL"
      },
      "source": [
        "### Provide your credentials to the runtime"
      ]
    },
    {
      "cell_type": "code",
      "metadata": {
        "id": "NEg2JZV4s1hP",
        "colab": {
          "base_uri": "https://localhost:8080/"
        },
        "outputId": "9bfa2e2e-e18f-4dc8-9dfe-544856b2cc64"
      },
      "source": [
        "%tensorflow_version 2.x\n",
        "import tensorflow as tf\n",
        "device_name = tf.test.gpu_device_name()\n",
        "if device_name != '/device:GPU:0':\n",
        "  raise SystemError('GPU device not found')\n",
        "print('Found GPU at: {}'.format(device_name))"
      ],
      "execution_count": 1,
      "outputs": [
        {
          "output_type": "stream",
          "name": "stdout",
          "text": [
            "Found GPU at: /device:GPU:0\n"
          ]
        }
      ]
    },
    {
      "cell_type": "code",
      "metadata": {
        "colab": {
          "base_uri": "https://localhost:8080/"
        },
        "id": "SeTJb51SKs_W",
        "outputId": "3e7dc322-d099-400c-cd6f-955ebb2fc8e8"
      },
      "source": [
        "from google.colab import auth\n",
        "auth.authenticate_user()\n",
        "print('Authenticated')"
      ],
      "execution_count": 2,
      "outputs": [
        {
          "output_type": "stream",
          "name": "stdout",
          "text": [
            "Authenticated\n"
          ]
        }
      ]
    },
    {
      "cell_type": "markdown",
      "metadata": {
        "id": "fkhbyGaXKs_6"
      },
      "source": [
        "# Use BigQuery through google-cloud-bigquery\n",
        "\n",
        "See [BigQuery documentation](https://cloud.google.com/bigquery/docs) and [library reference documentation](https://googlecloudplatform.github.io/google-cloud-python/latest/bigquery/usage.html).\n",
        "\n",
        "The [GSOD sample table](https://bigquery.cloud.google.com/table/bigquery-public-data:samples.gsod) contains weather information collected by NOAA, such as precipitation amounts and wind speeds from late 1929 to early 2010.\n"
      ]
    },
    {
      "cell_type": "markdown",
      "metadata": {
        "id": "goQQ96EDKs_7"
      },
      "source": [
        "### Declare the Cloud project ID which will be used throughout this notebook"
      ]
    },
    {
      "cell_type": "code",
      "metadata": {
        "id": "hWK0nJWgKs_8"
      },
      "source": [
        "project_id = 'cmpe272-332502'"
      ],
      "execution_count": 3,
      "outputs": []
    },
    {
      "cell_type": "code",
      "metadata": {
        "id": "ONI1Xo0-KtAD"
      },
      "source": [
        "from google.cloud import bigquery\n",
        "\n",
        "client = bigquery.Client(project=project_id)\n",
        "\n",
        "\n",
        "df = client.query('''\n",
        " SELECT  * FROM `bigquery-public-data.epa_historical_air_quality.co_daily_summary` where date_local >= \"2009-01-01\"\n",
        "''').to_dataframe()\n"
      ],
      "execution_count": 5,
      "outputs": []
    },
    {
      "cell_type": "code",
      "metadata": {
        "colab": {
          "base_uri": "https://localhost:8080/",
          "height": 452
        },
        "id": "uYqKFqK5y-vl",
        "outputId": "e2cc5ddc-328b-485f-f1ec-6928f79aa2c1"
      },
      "source": [
        "df.head()"
      ],
      "execution_count": 13,
      "outputs": [
        {
          "output_type": "execute_result",
          "data": {
            "text/html": [
              "<div>\n",
              "<style scoped>\n",
              "    .dataframe tbody tr th:only-of-type {\n",
              "        vertical-align: middle;\n",
              "    }\n",
              "\n",
              "    .dataframe tbody tr th {\n",
              "        vertical-align: top;\n",
              "    }\n",
              "\n",
              "    .dataframe thead th {\n",
              "        text-align: right;\n",
              "    }\n",
              "</style>\n",
              "<table border=\"1\" class=\"dataframe\">\n",
              "  <thead>\n",
              "    <tr style=\"text-align: right;\">\n",
              "      <th></th>\n",
              "      <th>state_code</th>\n",
              "      <th>county_code</th>\n",
              "      <th>site_num</th>\n",
              "      <th>parameter_code</th>\n",
              "      <th>poc</th>\n",
              "      <th>latitude</th>\n",
              "      <th>longitude</th>\n",
              "      <th>datum</th>\n",
              "      <th>parameter_name</th>\n",
              "      <th>sample_duration</th>\n",
              "      <th>pollutant_standard</th>\n",
              "      <th>date_local</th>\n",
              "      <th>units_of_measure</th>\n",
              "      <th>event_type</th>\n",
              "      <th>observation_count</th>\n",
              "      <th>observation_percent</th>\n",
              "      <th>arithmetic_mean</th>\n",
              "      <th>first_max_value</th>\n",
              "      <th>first_max_hour</th>\n",
              "      <th>aqi</th>\n",
              "      <th>method_code</th>\n",
              "      <th>method_name</th>\n",
              "      <th>local_site_name</th>\n",
              "      <th>address</th>\n",
              "      <th>state_name</th>\n",
              "      <th>county_name</th>\n",
              "      <th>city_name</th>\n",
              "      <th>cbsa_name</th>\n",
              "      <th>date_of_last_change</th>\n",
              "    </tr>\n",
              "  </thead>\n",
              "  <tbody>\n",
              "    <tr>\n",
              "      <th>0</th>\n",
              "      <td>02</td>\n",
              "      <td>020</td>\n",
              "      <td>0048</td>\n",
              "      <td>42101</td>\n",
              "      <td>1</td>\n",
              "      <td>61.191514</td>\n",
              "      <td>-149.934930</td>\n",
              "      <td>WGS84</td>\n",
              "      <td>Carbon monoxide</td>\n",
              "      <td>1 HOUR</td>\n",
              "      <td>CO 1-hour 1971</td>\n",
              "      <td>2012-10-12</td>\n",
              "      <td>Parts per million</td>\n",
              "      <td>None</td>\n",
              "      <td>24</td>\n",
              "      <td>100.0</td>\n",
              "      <td>1.041667</td>\n",
              "      <td>4.5</td>\n",
              "      <td>7</td>\n",
              "      <td>NaN</td>\n",
              "      <td>54.0</td>\n",
              "      <td>INSTRUMENTAL - NONDISPERSIVE INFRARED</td>\n",
              "      <td>UNITARIAN CHURCH</td>\n",
              "      <td>3201 TURNAGAIN STREET</td>\n",
              "      <td>Alaska</td>\n",
              "      <td>Anchorage</td>\n",
              "      <td>Anchorage</td>\n",
              "      <td>Anchorage, AK</td>\n",
              "      <td>2018-06-04</td>\n",
              "    </tr>\n",
              "    <tr>\n",
              "      <th>1</th>\n",
              "      <td>02</td>\n",
              "      <td>020</td>\n",
              "      <td>0052</td>\n",
              "      <td>42101</td>\n",
              "      <td>1</td>\n",
              "      <td>61.215027</td>\n",
              "      <td>-149.903111</td>\n",
              "      <td>WGS84</td>\n",
              "      <td>Carbon monoxide</td>\n",
              "      <td>1 HOUR</td>\n",
              "      <td>CO 1-hour 1971</td>\n",
              "      <td>2012-01-11</td>\n",
              "      <td>Parts per million</td>\n",
              "      <td>None</td>\n",
              "      <td>24</td>\n",
              "      <td>100.0</td>\n",
              "      <td>0.279167</td>\n",
              "      <td>1.3</td>\n",
              "      <td>17</td>\n",
              "      <td>NaN</td>\n",
              "      <td>54.0</td>\n",
              "      <td>INSTRUMENTAL - NONDISPERSIVE INFRARED</td>\n",
              "      <td>DHHS</td>\n",
              "      <td>727 L Street</td>\n",
              "      <td>Alaska</td>\n",
              "      <td>Anchorage</td>\n",
              "      <td>Anchorage</td>\n",
              "      <td>Anchorage, AK</td>\n",
              "      <td>2016-04-08</td>\n",
              "    </tr>\n",
              "    <tr>\n",
              "      <th>2</th>\n",
              "      <td>02</td>\n",
              "      <td>020</td>\n",
              "      <td>0052</td>\n",
              "      <td>42101</td>\n",
              "      <td>1</td>\n",
              "      <td>61.215027</td>\n",
              "      <td>-149.903111</td>\n",
              "      <td>WGS84</td>\n",
              "      <td>Carbon monoxide</td>\n",
              "      <td>1 HOUR</td>\n",
              "      <td>CO 1-hour 1971</td>\n",
              "      <td>2012-03-29</td>\n",
              "      <td>Parts per million</td>\n",
              "      <td>None</td>\n",
              "      <td>24</td>\n",
              "      <td>100.0</td>\n",
              "      <td>0.445833</td>\n",
              "      <td>0.9</td>\n",
              "      <td>6</td>\n",
              "      <td>NaN</td>\n",
              "      <td>54.0</td>\n",
              "      <td>INSTRUMENTAL - NONDISPERSIVE INFRARED</td>\n",
              "      <td>DHHS</td>\n",
              "      <td>727 L Street</td>\n",
              "      <td>Alaska</td>\n",
              "      <td>Anchorage</td>\n",
              "      <td>Anchorage</td>\n",
              "      <td>Anchorage, AK</td>\n",
              "      <td>2016-04-08</td>\n",
              "    </tr>\n",
              "    <tr>\n",
              "      <th>3</th>\n",
              "      <td>02</td>\n",
              "      <td>020</td>\n",
              "      <td>0052</td>\n",
              "      <td>42101</td>\n",
              "      <td>1</td>\n",
              "      <td>61.215027</td>\n",
              "      <td>-149.903111</td>\n",
              "      <td>WGS84</td>\n",
              "      <td>Carbon monoxide</td>\n",
              "      <td>8-HR RUN AVG END HOUR</td>\n",
              "      <td>CO 8-hour 1971</td>\n",
              "      <td>2012-11-01</td>\n",
              "      <td>Parts per million</td>\n",
              "      <td>None</td>\n",
              "      <td>24</td>\n",
              "      <td>100.0</td>\n",
              "      <td>0.379167</td>\n",
              "      <td>0.7</td>\n",
              "      <td>0</td>\n",
              "      <td>8.0</td>\n",
              "      <td>NaN</td>\n",
              "      <td>-</td>\n",
              "      <td>DHHS</td>\n",
              "      <td>727 L Street</td>\n",
              "      <td>Alaska</td>\n",
              "      <td>Anchorage</td>\n",
              "      <td>Anchorage</td>\n",
              "      <td>Anchorage, AK</td>\n",
              "      <td>2016-04-08</td>\n",
              "    </tr>\n",
              "    <tr>\n",
              "      <th>4</th>\n",
              "      <td>06</td>\n",
              "      <td>029</td>\n",
              "      <td>2012</td>\n",
              "      <td>42101</td>\n",
              "      <td>1</td>\n",
              "      <td>35.331612</td>\n",
              "      <td>-118.999961</td>\n",
              "      <td>NAD83</td>\n",
              "      <td>Carbon monoxide</td>\n",
              "      <td>1 HOUR</td>\n",
              "      <td>CO 1-hour 1971</td>\n",
              "      <td>2012-08-21</td>\n",
              "      <td>Parts per million</td>\n",
              "      <td>None</td>\n",
              "      <td>21</td>\n",
              "      <td>88.0</td>\n",
              "      <td>0.261905</td>\n",
              "      <td>0.4</td>\n",
              "      <td>9</td>\n",
              "      <td>NaN</td>\n",
              "      <td>54.0</td>\n",
              "      <td>INSTRUMENTAL - NONDISPERSIVE INFRARED</td>\n",
              "      <td>Bakersfield-Muni</td>\n",
              "      <td>2000 South Union Ave. Bakersfield CA  93307</td>\n",
              "      <td>California</td>\n",
              "      <td>Kern</td>\n",
              "      <td>Bakersfield</td>\n",
              "      <td>Bakersfield, CA</td>\n",
              "      <td>2016-04-09</td>\n",
              "    </tr>\n",
              "  </tbody>\n",
              "</table>\n",
              "</div>"
            ],
            "text/plain": [
              "  state_code county_code  ...        cbsa_name  date_of_last_change\n",
              "0         02         020  ...    Anchorage, AK           2018-06-04\n",
              "1         02         020  ...    Anchorage, AK           2016-04-08\n",
              "2         02         020  ...    Anchorage, AK           2016-04-08\n",
              "3         02         020  ...    Anchorage, AK           2016-04-08\n",
              "4         06         029  ...  Bakersfield, CA           2016-04-09\n",
              "\n",
              "[5 rows x 29 columns]"
            ]
          },
          "metadata": {},
          "execution_count": 13
        }
      ]
    },
    {
      "cell_type": "markdown",
      "metadata": {
        "id": "Bu2C7iWMKtAM"
      },
      "source": [
        "### Describe the sampled data"
      ]
    },
    {
      "cell_type": "code",
      "metadata": {
        "colab": {
          "base_uri": "https://localhost:8080/",
          "height": 320
        },
        "id": "XrFmZBr9KtAN",
        "outputId": "4b932438-c9b0-489a-81ab-69277bd07019"
      },
      "source": [
        "df.describe()"
      ],
      "execution_count": 6,
      "outputs": [
        {
          "output_type": "execute_result",
          "data": {
            "text/html": [
              "<div>\n",
              "<style scoped>\n",
              "    .dataframe tbody tr th:only-of-type {\n",
              "        vertical-align: middle;\n",
              "    }\n",
              "\n",
              "    .dataframe tbody tr th {\n",
              "        vertical-align: top;\n",
              "    }\n",
              "\n",
              "    .dataframe thead th {\n",
              "        text-align: right;\n",
              "    }\n",
              "</style>\n",
              "<table border=\"1\" class=\"dataframe\">\n",
              "  <thead>\n",
              "    <tr style=\"text-align: right;\">\n",
              "      <th></th>\n",
              "      <th>parameter_code</th>\n",
              "      <th>poc</th>\n",
              "      <th>latitude</th>\n",
              "      <th>longitude</th>\n",
              "      <th>observation_count</th>\n",
              "      <th>observation_percent</th>\n",
              "      <th>arithmetic_mean</th>\n",
              "      <th>first_max_value</th>\n",
              "      <th>first_max_hour</th>\n",
              "      <th>aqi</th>\n",
              "      <th>method_code</th>\n",
              "    </tr>\n",
              "  </thead>\n",
              "  <tbody>\n",
              "    <tr>\n",
              "      <th>count</th>\n",
              "      <td>2356603.0</td>\n",
              "      <td>2.356603e+06</td>\n",
              "      <td>2.356603e+06</td>\n",
              "      <td>2.356603e+06</td>\n",
              "      <td>2.356603e+06</td>\n",
              "      <td>2.356603e+06</td>\n",
              "      <td>2.356603e+06</td>\n",
              "      <td>2.356603e+06</td>\n",
              "      <td>2.356603e+06</td>\n",
              "      <td>1.178308e+06</td>\n",
              "      <td>1.178295e+06</td>\n",
              "    </tr>\n",
              "    <tr>\n",
              "      <th>mean</th>\n",
              "      <td>42101.0</td>\n",
              "      <td>1.147431e+00</td>\n",
              "      <td>3.752664e+01</td>\n",
              "      <td>-9.805205e+01</td>\n",
              "      <td>2.327752e+01</td>\n",
              "      <td>9.704557e+01</td>\n",
              "      <td>3.163669e-01</td>\n",
              "      <td>5.150626e-01</td>\n",
              "      <td>7.932945e+00</td>\n",
              "      <td>4.993341e+00</td>\n",
              "      <td>2.345471e+02</td>\n",
              "    </tr>\n",
              "    <tr>\n",
              "      <th>std</th>\n",
              "      <td>0.0</td>\n",
              "      <td>6.839221e-01</td>\n",
              "      <td>5.549900e+00</td>\n",
              "      <td>1.938084e+01</td>\n",
              "      <td>2.158731e+00</td>\n",
              "      <td>8.937323e+00</td>\n",
              "      <td>2.552046e-01</td>\n",
              "      <td>5.030489e-01</td>\n",
              "      <td>7.915253e+00</td>\n",
              "      <td>4.347717e+00</td>\n",
              "      <td>2.309118e+02</td>\n",
              "    </tr>\n",
              "    <tr>\n",
              "      <th>min</th>\n",
              "      <td>42101.0</td>\n",
              "      <td>1.000000e+00</td>\n",
              "      <td>1.800956e+01</td>\n",
              "      <td>-1.593662e+02</td>\n",
              "      <td>1.000000e+00</td>\n",
              "      <td>4.000000e+00</td>\n",
              "      <td>-5.000000e-01</td>\n",
              "      <td>-5.000000e-01</td>\n",
              "      <td>0.000000e+00</td>\n",
              "      <td>0.000000e+00</td>\n",
              "      <td>4.100000e+01</td>\n",
              "    </tr>\n",
              "    <tr>\n",
              "      <th>25%</th>\n",
              "      <td>42101.0</td>\n",
              "      <td>1.000000e+00</td>\n",
              "      <td>3.399958e+01</td>\n",
              "      <td>-1.174006e+02</td>\n",
              "      <td>2.300000e+01</td>\n",
              "      <td>9.600000e+01</td>\n",
              "      <td>1.750000e-01</td>\n",
              "      <td>2.040000e-01</td>\n",
              "      <td>0.000000e+00</td>\n",
              "      <td>2.000000e+00</td>\n",
              "      <td>5.400000e+01</td>\n",
              "    </tr>\n",
              "    <tr>\n",
              "      <th>50%</th>\n",
              "      <td>42101.0</td>\n",
              "      <td>1.000000e+00</td>\n",
              "      <td>3.819360e+01</td>\n",
              "      <td>-9.525759e+01</td>\n",
              "      <td>2.400000e+01</td>\n",
              "      <td>1.000000e+02</td>\n",
              "      <td>2.625000e-01</td>\n",
              "      <td>4.000000e-01</td>\n",
              "      <td>6.000000e+00</td>\n",
              "      <td>3.000000e+00</td>\n",
              "      <td>9.300000e+01</td>\n",
              "    </tr>\n",
              "    <tr>\n",
              "      <th>75%</th>\n",
              "      <td>42101.0</td>\n",
              "      <td>1.000000e+00</td>\n",
              "      <td>4.106040e+01</td>\n",
              "      <td>-8.059232e+01</td>\n",
              "      <td>2.400000e+01</td>\n",
              "      <td>1.000000e+02</td>\n",
              "      <td>4.000000e-01</td>\n",
              "      <td>6.000000e-01</td>\n",
              "      <td>1.500000e+01</td>\n",
              "      <td>7.000000e+00</td>\n",
              "      <td>5.540000e+02</td>\n",
              "    </tr>\n",
              "    <tr>\n",
              "      <th>max</th>\n",
              "      <td>42101.0</td>\n",
              "      <td>9.000000e+00</td>\n",
              "      <td>6.484569e+01</td>\n",
              "      <td>-6.605224e+01</td>\n",
              "      <td>2.400000e+01</td>\n",
              "      <td>1.000000e+02</td>\n",
              "      <td>4.566667e+01</td>\n",
              "      <td>5.000000e+01</td>\n",
              "      <td>2.300000e+01</td>\n",
              "      <td>4.530000e+02</td>\n",
              "      <td>5.930000e+02</td>\n",
              "    </tr>\n",
              "  </tbody>\n",
              "</table>\n",
              "</div>"
            ],
            "text/plain": [
              "       parameter_code           poc  ...           aqi   method_code\n",
              "count       2356603.0  2.356603e+06  ...  1.178308e+06  1.178295e+06\n",
              "mean          42101.0  1.147431e+00  ...  4.993341e+00  2.345471e+02\n",
              "std               0.0  6.839221e-01  ...  4.347717e+00  2.309118e+02\n",
              "min           42101.0  1.000000e+00  ...  0.000000e+00  4.100000e+01\n",
              "25%           42101.0  1.000000e+00  ...  2.000000e+00  5.400000e+01\n",
              "50%           42101.0  1.000000e+00  ...  3.000000e+00  9.300000e+01\n",
              "75%           42101.0  1.000000e+00  ...  7.000000e+00  5.540000e+02\n",
              "max           42101.0  9.000000e+00  ...  4.530000e+02  5.930000e+02\n",
              "\n",
              "[8 rows x 11 columns]"
            ]
          },
          "metadata": {},
          "execution_count": 6
        }
      ]
    },
    {
      "cell_type": "code",
      "metadata": {
        "colab": {
          "base_uri": "https://localhost:8080/"
        },
        "id": "aQvxaGFWwtXK",
        "outputId": "0dd6e8ec-98a2-47fa-b431-79ec7fe3a6aa"
      },
      "source": [
        "from google.colab import drive\n",
        "drive.mount(\"/content/drive\")"
      ],
      "execution_count": 7,
      "outputs": [
        {
          "output_type": "stream",
          "name": "stdout",
          "text": [
            "Mounted at /content/drive\n"
          ]
        }
      ]
    },
    {
      "cell_type": "code",
      "metadata": {
        "id": "0SbGE7ZMxPNe"
      },
      "source": [
        "df.to_csv(\"/content/drive/MyDrive/272/final.csv\", index=False)"
      ],
      "execution_count": 9,
      "outputs": []
    },
    {
      "cell_type": "markdown",
      "metadata": {
        "id": "YBiWBm9jyFT1"
      },
      "source": [
        "# Regressor Model"
      ]
    },
    {
      "cell_type": "code",
      "metadata": {
        "id": "qmoj6HXax2KY"
      },
      "source": [
        "import pandas as pd"
      ],
      "execution_count": 11,
      "outputs": []
    },
    {
      "cell_type": "code",
      "metadata": {
        "id": "phQHojeZyBAz"
      },
      "source": [
        "df['date_local'] = pd.to_datetime(df['date_local'])"
      ],
      "execution_count": 12,
      "outputs": []
    },
    {
      "cell_type": "code",
      "metadata": {
        "id": "5n4vlDO4ycQy"
      },
      "source": [
        "df_extract = df[[\"state_code\",\"county_code\",\"site_num\", \"date_local\",\"arithmetic_mean\", \"parameter_name\"]]"
      ],
      "execution_count": 14,
      "outputs": []
    },
    {
      "cell_type": "code",
      "metadata": {
        "colab": {
          "base_uri": "https://localhost:8080/",
          "height": 206
        },
        "id": "dxEVe4nczvjT",
        "outputId": "9d95668d-c8ae-4414-d5cb-4f932b355365"
      },
      "source": [
        "df_extract.head()"
      ],
      "execution_count": 15,
      "outputs": [
        {
          "output_type": "execute_result",
          "data": {
            "text/html": [
              "<div>\n",
              "<style scoped>\n",
              "    .dataframe tbody tr th:only-of-type {\n",
              "        vertical-align: middle;\n",
              "    }\n",
              "\n",
              "    .dataframe tbody tr th {\n",
              "        vertical-align: top;\n",
              "    }\n",
              "\n",
              "    .dataframe thead th {\n",
              "        text-align: right;\n",
              "    }\n",
              "</style>\n",
              "<table border=\"1\" class=\"dataframe\">\n",
              "  <thead>\n",
              "    <tr style=\"text-align: right;\">\n",
              "      <th></th>\n",
              "      <th>state_code</th>\n",
              "      <th>county_code</th>\n",
              "      <th>site_num</th>\n",
              "      <th>date_local</th>\n",
              "      <th>arithmetic_mean</th>\n",
              "      <th>parameter_name</th>\n",
              "    </tr>\n",
              "  </thead>\n",
              "  <tbody>\n",
              "    <tr>\n",
              "      <th>0</th>\n",
              "      <td>02</td>\n",
              "      <td>020</td>\n",
              "      <td>0048</td>\n",
              "      <td>2012-10-12</td>\n",
              "      <td>1.041667</td>\n",
              "      <td>Carbon monoxide</td>\n",
              "    </tr>\n",
              "    <tr>\n",
              "      <th>1</th>\n",
              "      <td>02</td>\n",
              "      <td>020</td>\n",
              "      <td>0052</td>\n",
              "      <td>2012-01-11</td>\n",
              "      <td>0.279167</td>\n",
              "      <td>Carbon monoxide</td>\n",
              "    </tr>\n",
              "    <tr>\n",
              "      <th>2</th>\n",
              "      <td>02</td>\n",
              "      <td>020</td>\n",
              "      <td>0052</td>\n",
              "      <td>2012-03-29</td>\n",
              "      <td>0.445833</td>\n",
              "      <td>Carbon monoxide</td>\n",
              "    </tr>\n",
              "    <tr>\n",
              "      <th>3</th>\n",
              "      <td>02</td>\n",
              "      <td>020</td>\n",
              "      <td>0052</td>\n",
              "      <td>2012-11-01</td>\n",
              "      <td>0.379167</td>\n",
              "      <td>Carbon monoxide</td>\n",
              "    </tr>\n",
              "    <tr>\n",
              "      <th>4</th>\n",
              "      <td>06</td>\n",
              "      <td>029</td>\n",
              "      <td>2012</td>\n",
              "      <td>2012-08-21</td>\n",
              "      <td>0.261905</td>\n",
              "      <td>Carbon monoxide</td>\n",
              "    </tr>\n",
              "  </tbody>\n",
              "</table>\n",
              "</div>"
            ],
            "text/plain": [
              "  state_code county_code site_num date_local  arithmetic_mean   parameter_name\n",
              "0         02         020     0048 2012-10-12         1.041667  Carbon monoxide\n",
              "1         02         020     0052 2012-01-11         0.279167  Carbon monoxide\n",
              "2         02         020     0052 2012-03-29         0.445833  Carbon monoxide\n",
              "3         02         020     0052 2012-11-01         0.379167  Carbon monoxide\n",
              "4         06         029     2012 2012-08-21         0.261905  Carbon monoxide"
            ]
          },
          "metadata": {},
          "execution_count": 15
        }
      ]
    },
    {
      "cell_type": "code",
      "metadata": {
        "colab": {
          "base_uri": "https://localhost:8080/"
        },
        "id": "cWA5PuWRzzbR",
        "outputId": "bdc9a983-c179-4d8f-b663-dc87e1d4923a"
      },
      "source": [
        "df_extract[\"year\"] = pd.DatetimeIndex(df_extract['date_local']).year  "
      ],
      "execution_count": 17,
      "outputs": [
        {
          "output_type": "stream",
          "name": "stderr",
          "text": [
            "/usr/local/lib/python3.7/dist-packages/ipykernel_launcher.py:1: SettingWithCopyWarning: \n",
            "A value is trying to be set on a copy of a slice from a DataFrame.\n",
            "Try using .loc[row_indexer,col_indexer] = value instead\n",
            "\n",
            "See the caveats in the documentation: https://pandas.pydata.org/pandas-docs/stable/user_guide/indexing.html#returning-a-view-versus-a-copy\n",
            "  \"\"\"Entry point for launching an IPython kernel.\n"
          ]
        }
      ]
    },
    {
      "cell_type": "code",
      "metadata": {
        "colab": {
          "base_uri": "https://localhost:8080/"
        },
        "id": "BKegMCz-0asy",
        "outputId": "7d762d19-0b38-4788-d8ea-a2ec4f398405"
      },
      "source": [
        "df_extract[\"month\"] = pd.DatetimeIndex(df_extract['date_local']).month\n",
        "df_extract[\"day\"] = pd.DatetimeIndex(df_extract['date_local']).day   "
      ],
      "execution_count": 19,
      "outputs": [
        {
          "output_type": "stream",
          "name": "stderr",
          "text": [
            "/usr/local/lib/python3.7/dist-packages/ipykernel_launcher.py:1: SettingWithCopyWarning: \n",
            "A value is trying to be set on a copy of a slice from a DataFrame.\n",
            "Try using .loc[row_indexer,col_indexer] = value instead\n",
            "\n",
            "See the caveats in the documentation: https://pandas.pydata.org/pandas-docs/stable/user_guide/indexing.html#returning-a-view-versus-a-copy\n",
            "  \"\"\"Entry point for launching an IPython kernel.\n",
            "/usr/local/lib/python3.7/dist-packages/ipykernel_launcher.py:2: SettingWithCopyWarning: \n",
            "A value is trying to be set on a copy of a slice from a DataFrame.\n",
            "Try using .loc[row_indexer,col_indexer] = value instead\n",
            "\n",
            "See the caveats in the documentation: https://pandas.pydata.org/pandas-docs/stable/user_guide/indexing.html#returning-a-view-versus-a-copy\n",
            "  \n"
          ]
        }
      ]
    },
    {
      "cell_type": "code",
      "metadata": {
        "colab": {
          "base_uri": "https://localhost:8080/"
        },
        "id": "bQjA6xNa0hpy",
        "outputId": "40d89f3d-2aea-459b-9563-8f4a46e407cd"
      },
      "source": [
        "df_extract.drop([\"date_local\"], axis=1, inplace=True)"
      ],
      "execution_count": 23,
      "outputs": [
        {
          "output_type": "stream",
          "name": "stderr",
          "text": [
            "/usr/local/lib/python3.7/dist-packages/pandas/core/frame.py:4174: SettingWithCopyWarning: \n",
            "A value is trying to be set on a copy of a slice from a DataFrame\n",
            "\n",
            "See the caveats in the documentation: https://pandas.pydata.org/pandas-docs/stable/user_guide/indexing.html#returning-a-view-versus-a-copy\n",
            "  errors=errors,\n"
          ]
        }
      ]
    },
    {
      "cell_type": "code",
      "metadata": {
        "colab": {
          "base_uri": "https://localhost:8080/"
        },
        "id": "N0mxKl-F05uf",
        "outputId": "9374e9b5-6291-4a11-89ad-de9c30087c81"
      },
      "source": [
        "df_extract[\"state_code\"] = df_extract[\"state_code\"].astype(int)\n",
        "df_extract[\"county_code\"] = df_extract[\"county_code\"].astype(int)\n",
        "df_extract[\"site_num\"] = df_extract[\"site_num\"].astype(int)"
      ],
      "execution_count": 25,
      "outputs": [
        {
          "output_type": "stream",
          "name": "stderr",
          "text": [
            "/usr/local/lib/python3.7/dist-packages/ipykernel_launcher.py:1: SettingWithCopyWarning: \n",
            "A value is trying to be set on a copy of a slice from a DataFrame.\n",
            "Try using .loc[row_indexer,col_indexer] = value instead\n",
            "\n",
            "See the caveats in the documentation: https://pandas.pydata.org/pandas-docs/stable/user_guide/indexing.html#returning-a-view-versus-a-copy\n",
            "  \"\"\"Entry point for launching an IPython kernel.\n",
            "/usr/local/lib/python3.7/dist-packages/ipykernel_launcher.py:2: SettingWithCopyWarning: \n",
            "A value is trying to be set on a copy of a slice from a DataFrame.\n",
            "Try using .loc[row_indexer,col_indexer] = value instead\n",
            "\n",
            "See the caveats in the documentation: https://pandas.pydata.org/pandas-docs/stable/user_guide/indexing.html#returning-a-view-versus-a-copy\n",
            "  \n",
            "/usr/local/lib/python3.7/dist-packages/ipykernel_launcher.py:3: SettingWithCopyWarning: \n",
            "A value is trying to be set on a copy of a slice from a DataFrame.\n",
            "Try using .loc[row_indexer,col_indexer] = value instead\n",
            "\n",
            "See the caveats in the documentation: https://pandas.pydata.org/pandas-docs/stable/user_guide/indexing.html#returning-a-view-versus-a-copy\n",
            "  This is separate from the ipykernel package so we can avoid doing imports until\n"
          ]
        }
      ]
    },
    {
      "cell_type": "code",
      "metadata": {
        "colab": {
          "base_uri": "https://localhost:8080/",
          "height": 206
        },
        "id": "qbnPaKZk1LQR",
        "outputId": "803fab82-be78-4b41-be60-8b66b84bb232"
      },
      "source": [
        "df_extract.head()"
      ],
      "execution_count": 26,
      "outputs": [
        {
          "output_type": "execute_result",
          "data": {
            "text/html": [
              "<div>\n",
              "<style scoped>\n",
              "    .dataframe tbody tr th:only-of-type {\n",
              "        vertical-align: middle;\n",
              "    }\n",
              "\n",
              "    .dataframe tbody tr th {\n",
              "        vertical-align: top;\n",
              "    }\n",
              "\n",
              "    .dataframe thead th {\n",
              "        text-align: right;\n",
              "    }\n",
              "</style>\n",
              "<table border=\"1\" class=\"dataframe\">\n",
              "  <thead>\n",
              "    <tr style=\"text-align: right;\">\n",
              "      <th></th>\n",
              "      <th>state_code</th>\n",
              "      <th>county_code</th>\n",
              "      <th>site_num</th>\n",
              "      <th>arithmetic_mean</th>\n",
              "      <th>parameter_name</th>\n",
              "      <th>year</th>\n",
              "      <th>month</th>\n",
              "      <th>day</th>\n",
              "    </tr>\n",
              "  </thead>\n",
              "  <tbody>\n",
              "    <tr>\n",
              "      <th>0</th>\n",
              "      <td>2</td>\n",
              "      <td>20</td>\n",
              "      <td>48</td>\n",
              "      <td>1.041667</td>\n",
              "      <td>Carbon monoxide</td>\n",
              "      <td>2012</td>\n",
              "      <td>10</td>\n",
              "      <td>12</td>\n",
              "    </tr>\n",
              "    <tr>\n",
              "      <th>1</th>\n",
              "      <td>2</td>\n",
              "      <td>20</td>\n",
              "      <td>52</td>\n",
              "      <td>0.279167</td>\n",
              "      <td>Carbon monoxide</td>\n",
              "      <td>2012</td>\n",
              "      <td>1</td>\n",
              "      <td>11</td>\n",
              "    </tr>\n",
              "    <tr>\n",
              "      <th>2</th>\n",
              "      <td>2</td>\n",
              "      <td>20</td>\n",
              "      <td>52</td>\n",
              "      <td>0.445833</td>\n",
              "      <td>Carbon monoxide</td>\n",
              "      <td>2012</td>\n",
              "      <td>3</td>\n",
              "      <td>29</td>\n",
              "    </tr>\n",
              "    <tr>\n",
              "      <th>3</th>\n",
              "      <td>2</td>\n",
              "      <td>20</td>\n",
              "      <td>52</td>\n",
              "      <td>0.379167</td>\n",
              "      <td>Carbon monoxide</td>\n",
              "      <td>2012</td>\n",
              "      <td>11</td>\n",
              "      <td>1</td>\n",
              "    </tr>\n",
              "    <tr>\n",
              "      <th>4</th>\n",
              "      <td>6</td>\n",
              "      <td>29</td>\n",
              "      <td>2012</td>\n",
              "      <td>0.261905</td>\n",
              "      <td>Carbon monoxide</td>\n",
              "      <td>2012</td>\n",
              "      <td>8</td>\n",
              "      <td>21</td>\n",
              "    </tr>\n",
              "  </tbody>\n",
              "</table>\n",
              "</div>"
            ],
            "text/plain": [
              "   state_code  county_code  site_num  ...  year month  day\n",
              "0           2           20        48  ...  2012    10   12\n",
              "1           2           20        52  ...  2012     1   11\n",
              "2           2           20        52  ...  2012     3   29\n",
              "3           2           20        52  ...  2012    11    1\n",
              "4           6           29      2012  ...  2012     8   21\n",
              "\n",
              "[5 rows x 8 columns]"
            ]
          },
          "metadata": {},
          "execution_count": 26
        }
      ]
    },
    {
      "cell_type": "code",
      "metadata": {
        "id": "mf34qBF91Sy3"
      },
      "source": [
        "df_g = df_extract.groupby([\"state_code\", \"county_code\",\"site_num\",\"year\",\"month\",\"day\"])[\"arithmetic_mean\"].mean().reset_index()"
      ],
      "execution_count": 27,
      "outputs": []
    },
    {
      "cell_type": "code",
      "metadata": {
        "colab": {
          "base_uri": "https://localhost:8080/",
          "height": 206
        },
        "id": "rilah-sj1q0x",
        "outputId": "07612e55-b0ee-42fd-8a2e-a0727675194e"
      },
      "source": [
        "df_g.head()"
      ],
      "execution_count": 28,
      "outputs": [
        {
          "output_type": "execute_result",
          "data": {
            "text/html": [
              "<div>\n",
              "<style scoped>\n",
              "    .dataframe tbody tr th:only-of-type {\n",
              "        vertical-align: middle;\n",
              "    }\n",
              "\n",
              "    .dataframe tbody tr th {\n",
              "        vertical-align: top;\n",
              "    }\n",
              "\n",
              "    .dataframe thead th {\n",
              "        text-align: right;\n",
              "    }\n",
              "</style>\n",
              "<table border=\"1\" class=\"dataframe\">\n",
              "  <thead>\n",
              "    <tr style=\"text-align: right;\">\n",
              "      <th></th>\n",
              "      <th>state_code</th>\n",
              "      <th>county_code</th>\n",
              "      <th>site_num</th>\n",
              "      <th>year</th>\n",
              "      <th>month</th>\n",
              "      <th>day</th>\n",
              "      <th>arithmetic_mean</th>\n",
              "    </tr>\n",
              "  </thead>\n",
              "  <tbody>\n",
              "    <tr>\n",
              "      <th>0</th>\n",
              "      <td>1</td>\n",
              "      <td>73</td>\n",
              "      <td>23</td>\n",
              "      <td>2011</td>\n",
              "      <td>1</td>\n",
              "      <td>12</td>\n",
              "      <td>0.504084</td>\n",
              "    </tr>\n",
              "    <tr>\n",
              "      <th>1</th>\n",
              "      <td>1</td>\n",
              "      <td>73</td>\n",
              "      <td>23</td>\n",
              "      <td>2011</td>\n",
              "      <td>1</td>\n",
              "      <td>13</td>\n",
              "      <td>0.441000</td>\n",
              "    </tr>\n",
              "    <tr>\n",
              "      <th>2</th>\n",
              "      <td>1</td>\n",
              "      <td>73</td>\n",
              "      <td>23</td>\n",
              "      <td>2011</td>\n",
              "      <td>1</td>\n",
              "      <td>14</td>\n",
              "      <td>0.505455</td>\n",
              "    </tr>\n",
              "    <tr>\n",
              "      <th>3</th>\n",
              "      <td>1</td>\n",
              "      <td>73</td>\n",
              "      <td>23</td>\n",
              "      <td>2011</td>\n",
              "      <td>1</td>\n",
              "      <td>15</td>\n",
              "      <td>0.817803</td>\n",
              "    </tr>\n",
              "    <tr>\n",
              "      <th>4</th>\n",
              "      <td>1</td>\n",
              "      <td>73</td>\n",
              "      <td>23</td>\n",
              "      <td>2011</td>\n",
              "      <td>1</td>\n",
              "      <td>16</td>\n",
              "      <td>0.722992</td>\n",
              "    </tr>\n",
              "  </tbody>\n",
              "</table>\n",
              "</div>"
            ],
            "text/plain": [
              "   state_code  county_code  site_num  year  month  day  arithmetic_mean\n",
              "0           1           73        23  2011      1   12         0.504084\n",
              "1           1           73        23  2011      1   13         0.441000\n",
              "2           1           73        23  2011      1   14         0.505455\n",
              "3           1           73        23  2011      1   15         0.817803\n",
              "4           1           73        23  2011      1   16         0.722992"
            ]
          },
          "metadata": {},
          "execution_count": 28
        }
      ]
    },
    {
      "cell_type": "code",
      "metadata": {
        "colab": {
          "base_uri": "https://localhost:8080/"
        },
        "id": "-iDGVdlB1vDA",
        "outputId": "78bd9646-3e51-49c5-a164-6be60983120e"
      },
      "source": [
        "df_g.info()"
      ],
      "execution_count": 30,
      "outputs": [
        {
          "output_type": "stream",
          "name": "stdout",
          "text": [
            "<class 'pandas.core.frame.DataFrame'>\n",
            "RangeIndex: 1166474 entries, 0 to 1166473\n",
            "Data columns (total 7 columns):\n",
            " #   Column           Non-Null Count    Dtype  \n",
            "---  ------           --------------    -----  \n",
            " 0   state_code       1166474 non-null  int64  \n",
            " 1   county_code      1166474 non-null  int64  \n",
            " 2   site_num         1166474 non-null  int64  \n",
            " 3   year             1166474 non-null  int64  \n",
            " 4   month            1166474 non-null  int64  \n",
            " 5   day              1166474 non-null  int64  \n",
            " 6   arithmetic_mean  1166474 non-null  float64\n",
            "dtypes: float64(1), int64(6)\n",
            "memory usage: 62.3 MB\n"
          ]
        }
      ]
    },
    {
      "cell_type": "code",
      "metadata": {
        "id": "oxEmsqTu2Pge"
      },
      "source": [
        "import xgboost as xgb\n",
        "from sklearn.model_selection import train_test_split\n",
        "from sklearn.preprocessing import MinMaxScaler\n",
        "from sklearn.metrics import mean_squared_error"
      ],
      "execution_count": 39,
      "outputs": []
    },
    {
      "cell_type": "code",
      "metadata": {
        "id": "flCvSSN42htT"
      },
      "source": [
        "X = df_g.drop([\"arithmetic_mean\"], axis=1)\n",
        "y = df_g[[\"arithmetic_mean\"]]"
      ],
      "execution_count": 32,
      "outputs": []
    },
    {
      "cell_type": "code",
      "metadata": {
        "id": "nkS5oVm02w85"
      },
      "source": [
        "train_X = X[:1100000]\n",
        "test_X = X[1100000:]\n",
        "train_y = y[:1100000]\n",
        "test_y = y[1100000:]"
      ],
      "execution_count": 36,
      "outputs": []
    },
    {
      "cell_type": "code",
      "metadata": {
        "id": "_gayJI_i3gTz"
      },
      "source": [
        "scaler = MinMaxScaler()\n",
        "train_scaled = scaler.fit_transform(train_X)\n",
        "test_scaled = scaler.fit_transform(test_X)"
      ],
      "execution_count": 37,
      "outputs": []
    },
    {
      "cell_type": "code",
      "metadata": {
        "colab": {
          "base_uri": "https://localhost:8080/"
        },
        "id": "v5_0EYlZ4ALp",
        "outputId": "2c79a470-1120-43f0-fcae-bd8202a39f47"
      },
      "source": [
        "xg = xgb.XGBRegressor()\n",
        "xg.fit(train_scaled, train_y)\n",
        "pred = xg.predict(test_scaled)"
      ],
      "execution_count": 38,
      "outputs": [
        {
          "output_type": "stream",
          "name": "stdout",
          "text": [
            "[07:37:43] WARNING: /workspace/src/objective/regression_obj.cu:152: reg:linear is now deprecated in favor of reg:squarederror.\n"
          ]
        }
      ]
    },
    {
      "cell_type": "code",
      "metadata": {
        "colab": {
          "base_uri": "https://localhost:8080/"
        },
        "id": "GK3mACvM4SUh",
        "outputId": "ca737f33-245c-4af5-8c02-9de49952a867"
      },
      "source": [
        "print(\"MSE: \", mean_squared_error(pred, test_y))"
      ],
      "execution_count": 40,
      "outputs": [
        {
          "output_type": "stream",
          "name": "stdout",
          "text": [
            "MSE:  0.3846755143074041\n"
          ]
        }
      ]
    }
  ]
}